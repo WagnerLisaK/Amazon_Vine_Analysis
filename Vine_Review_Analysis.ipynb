{
  "nbformat": 4,
  "nbformat_minor": 0,
  "metadata": {
    "colab": {
      "name": "Vine_Review_Analysis.ipynb",
      "provenance": [],
      "collapsed_sections": []
    },
    "kernelspec": {
      "name": "python3",
      "display_name": "Python 3"
    },
    "language_info": {
      "name": "python"
    }
  },
  "cells": [
    {
      "cell_type": "code",
      "metadata": {
        "colab": {
          "base_uri": "https://localhost:8080/"
        },
        "id": "dRQlrFzEk1Qs",
        "outputId": "6a198377-1d32-4b7b-f7fa-b8aea91f2192"
      },
      "source": [
        "import os\n",
        "# Find the latest version of spark 3.0 from http://www.apache.org/dist/spark/ and enter as the spark version\n",
        "# For example:\n",
        "# spark_version = 'spark-3.0.3'\n",
        "spark_version = 'spark-3.1.2'\n",
        "os.environ['SPARK_VERSION']=spark_version\n",
        "\n",
        "# Install Spark and Java\n",
        "!apt-get update\n",
        "!apt-get install openjdk-11-jdk-headless -qq > /dev/null\n",
        "!wget -q http://www.apache.org/dist/spark/$SPARK_VERSION/$SPARK_VERSION-bin-hadoop2.7.tgz\n",
        "!tar xf $SPARK_VERSION-bin-hadoop2.7.tgz\n",
        "!pip install -q findspark\n",
        "\n",
        "# Set Environment Variables\n",
        "import os\n",
        "os.environ[\"JAVA_HOME\"] = \"/usr/lib/jvm/java-11-openjdk-amd64\"\n",
        "os.environ[\"SPARK_HOME\"] = f\"/content/{spark_version}-bin-hadoop2.7\"\n",
        "\n",
        "# Start a SparkSession\n",
        "import findspark\n",
        "findspark.init()"
      ],
      "execution_count": null,
      "outputs": [
        {
          "output_type": "stream",
          "name": "stdout",
          "text": [
            "\r0% [Working]\r            \rIgn:1 https://developer.download.nvidia.com/compute/cuda/repos/ubuntu1804/x86_64  InRelease\n",
            "\r0% [Connecting to archive.ubuntu.com (91.189.88.142)] [Waiting for headers] [Co\r                                                                               \rHit:2 http://security.ubuntu.com/ubuntu bionic-security InRelease\n",
            "\r0% [Connecting to archive.ubuntu.com (91.189.88.142)] [Connecting to cloud.r-pr\r                                                                               \rIgn:3 https://developer.download.nvidia.com/compute/machine-learning/repos/ubuntu1804/x86_64  InRelease\n",
            "\r0% [Connecting to archive.ubuntu.com (91.189.88.142)] [Connecting to cloud.r-pr\r0% [2 InRelease gpgv 88.7 kB] [Connecting to archive.ubuntu.com (91.189.88.142)\r                                                                               \rHit:4 https://developer.download.nvidia.com/compute/cuda/repos/ubuntu1804/x86_64  Release\n",
            "Hit:5 https://developer.download.nvidia.com/compute/machine-learning/repos/ubuntu1804/x86_64  Release\n",
            "Hit:6 http://ppa.launchpad.net/c2d4u.team/c2d4u4.0+/ubuntu bionic InRelease\n",
            "Hit:7 http://archive.ubuntu.com/ubuntu bionic InRelease\n",
            "Hit:8 http://archive.ubuntu.com/ubuntu bionic-updates InRelease\n",
            "Hit:9 http://ppa.launchpad.net/cran/libgit2/ubuntu bionic InRelease\n",
            "Hit:10 https://cloud.r-project.org/bin/linux/ubuntu bionic-cran40/ InRelease\n",
            "Hit:12 http://archive.ubuntu.com/ubuntu bionic-backports InRelease\n",
            "Hit:13 http://ppa.launchpad.net/deadsnakes/ppa/ubuntu bionic InRelease\n",
            "Hit:15 http://ppa.launchpad.net/graphics-drivers/ppa/ubuntu bionic InRelease\n",
            "Reading package lists... Done\n"
          ]
        }
      ]
    },
    {
      "cell_type": "code",
      "metadata": {
        "colab": {
          "base_uri": "https://localhost:8080/"
        },
        "id": "cBS-YYcuk_PP",
        "outputId": "15ae0582-1839-4c23-9ea9-e38caa7372fd"
      },
      "source": [
        "# Download the Postgres driver that will allow Spark to interact with Postgres.\n",
        "!wget https://jdbc.postgresql.org/download/postgresql-42.2.16.jar"
      ],
      "execution_count": null,
      "outputs": [
        {
          "output_type": "stream",
          "name": "stdout",
          "text": [
            "--2021-10-09 22:57:22--  https://jdbc.postgresql.org/download/postgresql-42.2.16.jar\n",
            "Resolving jdbc.postgresql.org (jdbc.postgresql.org)... 72.32.157.228, 2001:4800:3e1:1::228\n",
            "Connecting to jdbc.postgresql.org (jdbc.postgresql.org)|72.32.157.228|:443... connected.\n",
            "HTTP request sent, awaiting response... 200 OK\n",
            "Length: 1002883 (979K) [application/java-archive]\n",
            "Saving to: ‘postgresql-42.2.16.jar.1’\n",
            "\n",
            "postgresql-42.2.16. 100%[===================>] 979.38K  4.95MB/s    in 0.2s    \n",
            "\n",
            "2021-10-09 22:57:22 (4.95 MB/s) - ‘postgresql-42.2.16.jar.1’ saved [1002883/1002883]\n",
            "\n"
          ]
        }
      ]
    },
    {
      "cell_type": "code",
      "metadata": {
        "id": "r0dIZxg7lDJa"
      },
      "source": [
        "from pyspark.sql import SparkSession\n",
        "spark = SparkSession.builder.appName(\"M16-Amazon-Challenge\").config(\"spark.driver.extraClassPath\",\"/content/postgresql-42.2.16.jar\").getOrCreate()"
      ],
      "execution_count": null,
      "outputs": []
    },
    {
      "cell_type": "code",
      "metadata": {
        "colab": {
          "base_uri": "https://localhost:8080/"
        },
        "id": "MDqErKSZlGDA",
        "outputId": "90da77ad-b0fd-4e87-d77b-cc64847870aa"
      },
      "source": [
        "from pyspark import SparkFiles\n",
        "url = \"https://s3.amazonaws.com/amazon-reviews-pds/tsv/amazon_reviews_us_Major_Appliances_v1_00.tsv.gz\"\n",
        "spark.sparkContext.addFile(url)\n",
        "df = spark.read.option(\"encoding\", \"UTF-8\").csv(SparkFiles.get(\"amazon_reviews_us_Major_Appliances_v1_00.tsv.gz\"), sep=\"\\t\", header=True, inferSchema=True)\n",
        "df.show()"
      ],
      "execution_count": null,
      "outputs": [
        {
          "output_type": "stream",
          "name": "stdout",
          "text": [
            "+-----------+-----------+--------------+----------+--------------+--------------------+----------------+-----------+-------------+-----------+----+-----------------+--------------------+--------------------+-----------+\n",
            "|marketplace|customer_id|     review_id|product_id|product_parent|       product_title|product_category|star_rating|helpful_votes|total_votes|vine|verified_purchase|     review_headline|         review_body|review_date|\n",
            "+-----------+-----------+--------------+----------+--------------+--------------------+----------------+-----------+-------------+-----------+----+-----------------+--------------------+--------------------+-----------+\n",
            "|         US|   16199106|R203HPW78Z7N4K|B0067WNSZY|     633038551|FGGF3032MW Galler...|Major Appliances|          5|            0|          0|   N|                Y|If you need a new...|What a great stov...| 2015-08-31|\n",
            "|         US|   16374060|R2EAIGVLEALSP3|B002QSXK60|     811766671|Best Hand Clothes...|Major Appliances|          5|            1|          1|   N|                Y|          Five Stars|        worked great| 2015-08-31|\n",
            "|         US|   15322085|R1K1CD73HHLILA|B00EC452R6|     345562728|Supco SET184 Ther...|Major Appliances|          5|            0|          0|   N|                Y|       Fast Shipping|Part exactly what...| 2015-08-31|\n",
            "|         US|   32004835|R2KZBMOFRMYOPO|B00MVVIF2G|     563052763|Midea WHS-160RB1 ...|Major Appliances|          5|            1|          1|   N|                Y|          Five Stars|Love my refrigera...| 2015-08-31|\n",
            "|         US|   25414497| R6BIZOZY6UD01|B00IY7BNUW|     874236579|Avalon Bay Portab...|Major Appliances|          5|            0|          0|   N|                Y|          Five Stars|No more running t...| 2015-08-31|\n",
            "|         US|   36311751|R1MCXZFNF8E7Y0|B0033X29CI|     294467812|Danby  Freestandi...|Major Appliances|          1|            0|          0|   N|                Y|       Piece of Junk|It would not cool...| 2015-08-31|\n",
            "|         US|   30920961|R3EMB3E3ODR6BW|B005R597HA|     183784715|Avanti 110-Volt A...|Major Appliances|          5|            2|          2|   N|                Y|Works awesome for...|Works awesome for...| 2015-08-31|\n",
            "|         US|   52491265| RJTONVTTOPJ5S|B00MO6V8Y0|     960251524|      Danby products|Major Appliances|          5|            0|          0|   N|                Y|          Five Stars|exactly what I wa...| 2015-08-31|\n",
            "|         US|   48166169|R21U5QZ2CQECUM|B00HT39QDI|     992475314|3 Pack Tier1 MSWF...|Major Appliances|          4|            0|          0|   N|                Y|          Four Stars|       AS advertised| 2015-08-31|\n",
            "|         US|   50394924| RL2BBC51H89DH|B00LESFZ52|       1641606|True TSSU-60-16 6...|Major Appliances|          4|            0|          0|   N|                Y|but has poor insu...|It works as adver...| 2015-08-31|\n",
            "|         US|    3915552|R3RNEPHF3WIRSZ|B0149IJVPI|     838108342|Magic: the Gather...|Major Appliances|          2|            0|          0|   N|                N|           Two Stars|it's not worth 22...| 2015-08-31|\n",
            "|         US|   17068589|R38DNT9KML2PF3|B002HT0958|     387104338|Mini Portable Cou...|Major Appliances|          5|            0|          0|   N|                Y| Love it for camping|Wonderful! It spi...| 2015-08-31|\n",
            "|         US|   52081068|R2ECMBJM8KNNC8|B006WOBNX6|     180688127|1 X Dishwasher Ra...|Major Appliances|          4|            0|          0|   N|                Y|          Four Stars|Did the job but d...| 2015-08-31|\n",
            "|         US|   13783713|R2F3F92PRN9T7S|B00NLPMOU0|     570132358|Watson 1.5 ft AC ...|Major Appliances|          5|            0|          0|   N|                Y|Very well satisfied.|Arrived on time a...| 2015-08-31|\n",
            "|         US|   14555366|R35XNT88XVEMK6|B00KJ07SEM|     313983847|GE MWF SmartWater...|Major Appliances|          5|            1|          1|   N|                Y|          Five Stars|               Super| 2015-08-31|\n",
            "|         US|   48417244| RZRXLHQS71FUP|B001AT2ALM|     364403440|Koldfront Ultra C...|Major Appliances|          4|            1|          1|   N|                Y|          Four Stars|Looking forward t...| 2015-08-31|\n",
            "|         US|   19010760|R3J9T4MZRAURV5|B00JG8B42K|     672722354|OnePurify RFC0800...|Major Appliances|          1|            0|          0|   N|                Y|     dont waste your|cheap knock-off. ...| 2015-08-31|\n",
            "|         US|   43532555|R3CLDHHI0ZSQLO|B00FRJ5EWS|     137548022|2016 Life Water I...|Major Appliances|          5|            1|          2|   N|                N|       Great Product|My wife is lookin...| 2015-08-31|\n",
            "|         US|   21879631| RY52KZABZK8QF|B0052G14E8|     423421857|Danby 0.7 cu.ft. ...|Major Appliances|          1|            0|          0|   N|                Y|Do not recommend ...|3 of the buttons ...| 2015-08-31|\n",
            "|         US|     810098|R25RXV5X29M3UC|B00LOVVE9A|     386722389|SPT UF-304SS Ener...|Major Appliances|          4|            0|          1|   N|                Y|          Four Stars|     So far so good.| 2015-08-31|\n",
            "+-----------+-----------+--------------+----------+--------------+--------------------+----------------+-----------+-------------+-----------+----+-----------------+--------------------+--------------------+-----------+\n",
            "only showing top 20 rows\n",
            "\n"
          ]
        }
      ]
    },
    {
      "cell_type": "code",
      "metadata": {
        "colab": {
          "base_uri": "https://localhost:8080/"
        },
        "id": "lWHBNC4plUyH",
        "outputId": "987a3e74-af3f-4ced-b414-992abd22e629"
      },
      "source": [
        "# Create the vine_table. DataFrame\n",
        "vine_df = df.select([\"review_id\", \"star_rating\", \"helpful_votes\", \"total_votes\", \"vine\", \"verified_purchase\"])\n",
        "vine_df.show()"
      ],
      "execution_count": null,
      "outputs": [
        {
          "output_type": "stream",
          "name": "stdout",
          "text": [
            "+--------------+-----------+-------------+-----------+----+-----------------+\n",
            "|     review_id|star_rating|helpful_votes|total_votes|vine|verified_purchase|\n",
            "+--------------+-----------+-------------+-----------+----+-----------------+\n",
            "|R203HPW78Z7N4K|          5|            0|          0|   N|                Y|\n",
            "|R2EAIGVLEALSP3|          5|            1|          1|   N|                Y|\n",
            "|R1K1CD73HHLILA|          5|            0|          0|   N|                Y|\n",
            "|R2KZBMOFRMYOPO|          5|            1|          1|   N|                Y|\n",
            "| R6BIZOZY6UD01|          5|            0|          0|   N|                Y|\n",
            "|R1MCXZFNF8E7Y0|          1|            0|          0|   N|                Y|\n",
            "|R3EMB3E3ODR6BW|          5|            2|          2|   N|                Y|\n",
            "| RJTONVTTOPJ5S|          5|            0|          0|   N|                Y|\n",
            "|R21U5QZ2CQECUM|          4|            0|          0|   N|                Y|\n",
            "| RL2BBC51H89DH|          4|            0|          0|   N|                Y|\n",
            "|R3RNEPHF3WIRSZ|          2|            0|          0|   N|                N|\n",
            "|R38DNT9KML2PF3|          5|            0|          0|   N|                Y|\n",
            "|R2ECMBJM8KNNC8|          4|            0|          0|   N|                Y|\n",
            "|R2F3F92PRN9T7S|          5|            0|          0|   N|                Y|\n",
            "|R35XNT88XVEMK6|          5|            1|          1|   N|                Y|\n",
            "| RZRXLHQS71FUP|          4|            1|          1|   N|                Y|\n",
            "|R3J9T4MZRAURV5|          1|            0|          0|   N|                Y|\n",
            "|R3CLDHHI0ZSQLO|          5|            1|          2|   N|                N|\n",
            "| RY52KZABZK8QF|          1|            0|          0|   N|                Y|\n",
            "|R25RXV5X29M3UC|          4|            0|          1|   N|                Y|\n",
            "+--------------+-----------+-------------+-----------+----+-----------------+\n",
            "only showing top 20 rows\n",
            "\n"
          ]
        }
      ]
    },
    {
      "cell_type": "code",
      "metadata": {
        "id": "zNQvDHWIlrHO",
        "colab": {
          "base_uri": "https://localhost:8080/"
        },
        "outputId": "d695673d-ebff-44dd-b7a6-dfe89bf32f26"
      },
      "source": [
        "# 1.\n",
        "# Filter the data and create a new DataFrame or table to retrieve all the rows where\n",
        "# the total_votes count is equal to or greater than 20 to pick reviews that are\n",
        "# more likely to be helpful and to avoid having division by zero errors later on.\n",
        "from pyspark.sql.functions import col, count, round\n",
        "votes20_df = vine_df.filter(col(\"total_votes\") >= 20)\n",
        "votes20_df.show()"
      ],
      "execution_count": null,
      "outputs": [
        {
          "output_type": "stream",
          "name": "stdout",
          "text": [
            "+--------------+-----------+-------------+-----------+----+-----------------+\n",
            "|     review_id|star_rating|helpful_votes|total_votes|vine|verified_purchase|\n",
            "+--------------+-----------+-------------+-----------+----+-----------------+\n",
            "|R1QXNQBTH7LIUB|          3|            9|         22|   N|                Y|\n",
            "|R3BC75VKJK6LNV|          4|           83|         89|   N|                Y|\n",
            "| R5XKK92G5N9FU|          1|           18|         22|   N|                N|\n",
            "| RYMOWYW38WKOB|          5|           35|         35|   N|                N|\n",
            "| RYHZAVESD0T37|          1|           39|         45|   N|                Y|\n",
            "|R19Y5VBOF3BQOG|          1|           26|         35|   N|                Y|\n",
            "| R8V9F3139Z1WZ|          1|           30|         34|   N|                N|\n",
            "|R3RNY5OLY451GS|          1|           25|         30|   N|                Y|\n",
            "|R16LPVYSJOAH1T|          1|           20|         20|   N|                N|\n",
            "|R2NLL7ISMM5QYQ|          4|           89|         94|   N|                Y|\n",
            "|R3FAFI6Q0YL37W|          1|           30|         35|   N|                Y|\n",
            "|R1A4JVOP7N5Q1K|          5|           28|         30|   N|                Y|\n",
            "|R30E25MXKEP9BP|          4|           36|         37|   N|                Y|\n",
            "|R2FMLYX388LR2Y|          5|           28|         33|   N|                Y|\n",
            "| R1EGFDXPYGROC|          5|           28|         32|   N|                Y|\n",
            "|R2DCZYJZRF0V2O|          5|           26|         28|   N|                Y|\n",
            "|R3QNOR0K43XLWB|          5|           41|         41|   N|                N|\n",
            "| RPNUNJJZLD11P|          1|           26|         27|   N|                N|\n",
            "|R39VRWWZWAHBPH|          1|           15|         21|   N|                Y|\n",
            "| RU7XNN9EC8V8X|          1|           31|         36|   N|                Y|\n",
            "+--------------+-----------+-------------+-----------+----+-----------------+\n",
            "only showing top 20 rows\n",
            "\n"
          ]
        }
      ]
    },
    {
      "cell_type": "code",
      "metadata": {
        "id": "7dWvrcTXlv2w",
        "colab": {
          "base_uri": "https://localhost:8080/"
        },
        "outputId": "e95d5876-a392-4191-cb43-21939b4d8dfd"
      },
      "source": [
        "# 2.\n",
        "# Filter the new DataFrame or table created in Step 1 and create a new DataFrame\n",
        "# or table to retrieve all the rows where the number of helpful_votes divided by\n",
        "# total_votes is equal to or greater than 50%.\n",
        "\n",
        "x_df = votes20_df.withColumn(\"calc\", (((votes20_df['helpful_votes'])/(votes20_df['total_votes']))*100))\n",
        "x_df = x_df.filter(col(\"calc\")>=\"50\")\n",
        "x_df.show()"
      ],
      "execution_count": null,
      "outputs": [
        {
          "output_type": "stream",
          "name": "stdout",
          "text": [
            "+--------------+-----------+-------------+-----------+----+-----------------+-----------------+\n",
            "|     review_id|star_rating|helpful_votes|total_votes|vine|verified_purchase|             calc|\n",
            "+--------------+-----------+-------------+-----------+----+-----------------+-----------------+\n",
            "|R3BC75VKJK6LNV|          4|           83|         89|   N|                Y|93.25842696629213|\n",
            "| R5XKK92G5N9FU|          1|           18|         22|   N|                N|81.81818181818183|\n",
            "| RYMOWYW38WKOB|          5|           35|         35|   N|                N|            100.0|\n",
            "| RYHZAVESD0T37|          1|           39|         45|   N|                Y|86.66666666666667|\n",
            "|R19Y5VBOF3BQOG|          1|           26|         35|   N|                Y|74.28571428571429|\n",
            "| R8V9F3139Z1WZ|          1|           30|         34|   N|                N|88.23529411764706|\n",
            "|R3RNY5OLY451GS|          1|           25|         30|   N|                Y|83.33333333333334|\n",
            "|R16LPVYSJOAH1T|          1|           20|         20|   N|                N|            100.0|\n",
            "|R2NLL7ISMM5QYQ|          4|           89|         94|   N|                Y|94.68085106382979|\n",
            "|R3FAFI6Q0YL37W|          1|           30|         35|   N|                Y|85.71428571428571|\n",
            "|R1A4JVOP7N5Q1K|          5|           28|         30|   N|                Y|93.33333333333333|\n",
            "|R30E25MXKEP9BP|          4|           36|         37|   N|                Y| 97.2972972972973|\n",
            "|R2FMLYX388LR2Y|          5|           28|         33|   N|                Y|84.84848484848484|\n",
            "| R1EGFDXPYGROC|          5|           28|         32|   N|                Y|             87.5|\n",
            "|R2DCZYJZRF0V2O|          5|           26|         28|   N|                Y|92.85714285714286|\n",
            "|R3QNOR0K43XLWB|          5|           41|         41|   N|                N|            100.0|\n",
            "| RPNUNJJZLD11P|          1|           26|         27|   N|                N|96.29629629629629|\n",
            "|R39VRWWZWAHBPH|          1|           15|         21|   N|                Y|71.42857142857143|\n",
            "| RU7XNN9EC8V8X|          1|           31|         36|   N|                Y|86.11111111111111|\n",
            "|R2ZU7AC8QSDUOB|          4|           41|         44|   N|                Y|93.18181818181817|\n",
            "+--------------+-----------+-------------+-----------+----+-----------------+-----------------+\n",
            "only showing top 20 rows\n",
            "\n"
          ]
        }
      ]
    },
    {
      "cell_type": "code",
      "metadata": {
        "id": "QWOqCDKMlw_p",
        "colab": {
          "base_uri": "https://localhost:8080/"
        },
        "outputId": "7124df31-7ea8-439d-c3ad-790f25c22b1a"
      },
      "source": [
        "# 3.\n",
        "# Filter the DataFrame or table created in Step 2, and create a new DataFrame\n",
        "# or table that retrieves all the rows where a review was written as part of \n",
        "# the Vine program (paid), vine == 'Y'.\n",
        "\n",
        "vine_paid_df = x_df.filter(col(\"vine\")==\"Y\")\n",
        "vine_paid = vine_paid_df.count()\n",
        "print(vine_paid)\n",
        "\n"
      ],
      "execution_count": null,
      "outputs": [
        {
          "output_type": "stream",
          "name": "stdout",
          "text": [
            "35\n"
          ]
        }
      ]
    },
    {
      "cell_type": "code",
      "metadata": {
        "id": "0HtsjYt1lxey",
        "colab": {
          "base_uri": "https://localhost:8080/"
        },
        "outputId": "17fc1777-bc02-490a-e5bf-0ceae3b71408"
      },
      "source": [
        "# 4.\n",
        "# Repeat Step 3, but this time retrieve all the rows where the review was not\n",
        "# part of the Vine program (unpaid), vine == 'N'.\n",
        "\n",
        "vine_unpaid_df = x_df.filter(col(\"vine\") == \"N\")\n",
        "vine_unpaid = vine_unpaid_df.count()\n",
        "print(vine_unpaid)\n",
        "\n"
      ],
      "execution_count": null,
      "outputs": [
        {
          "output_type": "stream",
          "name": "stdout",
          "text": [
            "4957\n"
          ]
        }
      ]
    },
    {
      "cell_type": "code",
      "metadata": {
        "id": "IdDs2-xqlxrt",
        "colab": {
          "base_uri": "https://localhost:8080/"
        },
        "outputId": "36390fb0-2a05-4002-892c-175b115d2a4a"
      },
      "source": [
        "# 5.\n",
        "# Determine the total number of reviews, the number of 5-star reviews, and the\n",
        "# percentage of 5-star reviews for the two types of review (paid vs unpaid).\n",
        "\n",
        "# z = total number of reviews\n",
        "z = vine_df.count()\n",
        "print(\"The total number of reviews is \" + str(z) + \".\")\n",
        "\n",
        "z5 = vine_df.filter(col(\"star_rating\")==5).count()\n",
        "print(\"The number of 5-star rating is \" + str(z5) + \".\")\n",
        "print(\"\")\n",
        "\n",
        "# vine_paid = Yes = y \n",
        "# 5-star paids = a\n",
        "# vine_paid_pct5 = percent of Y's that are 5-stars\n",
        "\n",
        "print(\"The number of Vine (paid) reviews is \" + str(vine_paid) + \".\")\n",
        "a = vine_paid_df.filter(col(\"star_rating\")==5).count()\n",
        "print(\"The number of Vine (paid) 5-star ratings is \" + str(a) + \".\")\n",
        "vine_paid_pct5 = (a/vine_paid)*100\n",
        "print(\"The percent of Vine (paid) 5-star reviews is \" + str(vine_paid_pct5) + \"%.\")\n",
        "print(\"\")\n",
        "\n",
        "# vine_unpaid = No = n\n",
        "# 5-star unpaid = b\n",
        "# vine_unpaid_pct5 = percent of N's that are 5-stars\n",
        "\n",
        "print(\"The number of non-Vine (unpaid) reviews is \" + str(vine_unpaid) + \".\")\n",
        "b = vine_unpaid_df.filter(col(\"star_rating\")==5).count()\n",
        "print(\"The number of non-Vine (unpaid) 5-star ratings is \" + str(b) + \".\")\n",
        "vine_unpaid_pct5 = (b/vine_unpaid)*100\n",
        "print(\"The percent of unpaid 5-star reviews is \" + str(vine_unpaid_pct5) + \"%.\")\n"
      ],
      "execution_count": null,
      "outputs": [
        {
          "output_type": "stream",
          "name": "stdout",
          "text": [
            "The total number of reviews is 96901.\n",
            "The number of 5-star rating is 49704.\n",
            "\n",
            "The number of Vine (paid) reviews is 35.\n",
            "The number of Vine (paid) 5-star ratings is 18.\n",
            "The percent of Vine (paid) 5-star reviews is 51.42857142857142%.\n",
            "\n",
            "The number of non-Vine (unpaid) reviews is 4957.\n",
            "The number of non-Vine (unpaid) 5-star ratings is 1963.\n",
            "The percent of unpaid 5-star reviews is 39.60056485777688%.\n"
          ]
        }
      ]
    }
  ]
}